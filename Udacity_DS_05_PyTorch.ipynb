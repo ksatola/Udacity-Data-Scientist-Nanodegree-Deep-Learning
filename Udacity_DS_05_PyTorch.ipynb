{
 "cells": [
  {
   "cell_type": "code",
   "execution_count": null,
   "metadata": {},
   "outputs": [],
   "source": []
  },
  {
   "cell_type": "markdown",
   "metadata": {},
   "source": [
    "# PyTorch"
   ]
  },
  {
   "cell_type": "markdown",
   "metadata": {},
   "source": [
    "1. [Part 1 - Tensors in PyTorch (Exercises)](Udacity_DS_05_PyTorch/Part 1 - Tensors in PyTorch (Exercises).ipynb)\n",
    "2. [Part 2 - Neural Networks in PyTorch (Exercises)](Udacity_DS_05_PyTorch/Part 2 - Neural Networks in PyTorch (Exercises).ipynb)\n",
    "3. [Part 3 - Training Neural Networks (Exercises)](Udacity_DS_05_PyTorch/Part 3 - Training Neural Networks (Exercises).ipynb)\n",
    "4. [Part 4 - Fashion-MNIST (Exercises)](Udacity_DS_05_PyTorch/Part 4 - Fashion-MNIST (Exercises).ipynb)\n",
    "5. [Part 5 - Inference and Validation (Exercises)](Udacity_DS_05_PyTorch/Part 5 - Inference and Validation (Exercises).ipynb)\n",
    "6. [Part 6 - Saving and Loading Models](Udacity_DS_05_PyTorch/Part 6 - Saving and Loading Models.ipynb)\n",
    "7. [Part 7 - Loading Image Data (Exercises)](Udacity_DS_05_PyTorch/Part 7 - Loading Image Data (Exercises).ipynb)\n",
    "8. [Part 8 - Transfer Learning (Exercises)](Udacity_DS_05_PyTorch/Part 8 - Transfer Learning (Exercises).ipynb)"
   ]
  },
  {
   "cell_type": "code",
   "execution_count": null,
   "metadata": {},
   "outputs": [],
   "source": []
  },
  {
   "cell_type": "code",
   "execution_count": null,
   "metadata": {},
   "outputs": [],
   "source": []
  },
  {
   "cell_type": "code",
   "execution_count": null,
   "metadata": {},
   "outputs": [],
   "source": []
  },
  {
   "cell_type": "code",
   "execution_count": null,
   "metadata": {},
   "outputs": [],
   "source": []
  },
  {
   "cell_type": "code",
   "execution_count": null,
   "metadata": {},
   "outputs": [],
   "source": []
  },
  {
   "cell_type": "code",
   "execution_count": null,
   "metadata": {},
   "outputs": [],
   "source": []
  }
 ],
 "metadata": {
  "kernelspec": {
   "display_name": "Python [default]",
   "language": "python",
   "name": "python3"
  },
  "language_info": {
   "codemirror_mode": {
    "name": "ipython",
    "version": 3
   },
   "file_extension": ".py",
   "mimetype": "text/x-python",
   "name": "python",
   "nbconvert_exporter": "python",
   "pygments_lexer": "ipython3",
   "version": "3.6.6"
  }
 },
 "nbformat": 4,
 "nbformat_minor": 2
}
